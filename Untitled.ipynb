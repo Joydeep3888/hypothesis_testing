import os
import re
import pandas as pd

def extract_disposition(lines):
    disp_pattern = re.compile(r'DISP\s*=\s*\(?(\bMOD\b|\bSHR\b|\bNEW\b|\bOLD\b)', re.IGNORECASE)
    matches = [disp_pattern.findall(line) for line in lines]
    return [item for sublist in matches for item in sublist]

def extract_dsn_filename(lines):
    dsn_pattern = re.compile(r'DD\s+DSN=([^,]+),', re.IGNORECASE)
    matches = [dsn_pattern.findall(line) for line in lines]
    return [item for sublist in matches for item in sublist]

def extract_general_programs(lines, control_card_directory):
    general_program_pattern = re.compile(r'^//\S+\s+EXEC\s+PGM=([a-zA-Z0-9_]{1,8})', re.IGNORECASE)
    run_program_pattern = re.compile(r'RUN PROGRAM\(([^)]+)\)', re.IGNORECASE)
    systsin_pattern = re.compile(r'SYSTSIN\s+DD\s+DSN=.*CTLCARDS\(([^)]+)\)', re.IGNORECASE)
    special_programs = ['DFSRRC00', 'IKJEFT01', 'IKJEFTA', 'IKJEFTB']
    results = []
    current_program = None
    dsn_matches = []
    disp_matches = []
    control_card_name = None

    for i, line in enumerate(lines):
        if line.startswith('//*') or line.startswith('//**'):
            continue  # Ignore comment lines

        general_program_match = general_program_pattern.match(line)
        if general_program_match:
            if current_program:
                results.append({
                    'program_name_inside_proc': current_program,
                    'dsn_file_name': dsn_matches if dsn_matches else ['na'],
                    'disp_value': disp_matches if disp_matches else ['na'],
                    'control_card': control_card_name if control_card_name else 'na'
                })
                dsn_matches = []
                disp_matches = []
                control_card_name = None
            current_program = general_program_match.group(1)
            print(f"General program found: {current_program}")
            dsn_matches = extract_dsn_filename(lines[i:])
            disp_matches = extract_disposition(lines[i:])
            if current_program in special_programs:
                print(f"Special program identified: {current_program}. Delegating to extract_cobol_ims or control card processing.")
                parm_found = False
                for j in range(i + 1, len(lines)):
                    if 'PARM=' in lines[j]:
                        parm_found = True
                        break
                    if general_program_pattern.match(lines[j]):
                        break
                if not parm_found:
                    control_card_matches = systsin_pattern.findall("\n".join(lines[i:]))
                    for control_card in control_card_matches:
                        control_card_name = control_card
                        control_card_programs = extract_control_card_programs(control_card, control_card_directory)
                        results.extend(control_card_programs)
                results.extend(extract_cobol_ims(lines[i:], dsn_matches, disp_matches, control_card_name))
                current_program = None  # Reset after special processing
            elif current_program == 'EZTADJE':
                print(f"EZTADJE program identified. Delegating to extract_sysin_programs.")
                results.extend(extract_sysin_programs(lines[i:], dsn_matches, disp_matches, control_card_name))
                current_program = None  # Reset after special processing
        else:
            run_program_match = run_program_pattern.search(line)
            if run_program_match:
                if current_program:
                    results.append({
                        'program_name_inside_proc': current_program,
                        'dsn_file_name': dsn_matches if dsn_matches else ['na'],
                        'disp_value': disp_matches if disp_matches else ['na'],
                        'control_card': control_card_name if control_card_name else 'na'
                    })
                    dsn_matches = []
                    disp_matches = []
                    control_card_name = None
                current_program = run_program_match.group(1)
                print(f"RUN PROGRAM found: {current_program}")
            else:
                dsn_matches += extract_dsn_filename([line])
                disp_matches += extract_disposition([line])

    if current_program:
        results.append({
            'program_name_inside_proc': current_program,
            'dsn_file_name': dsn_matches if dsn_matches else ['na'],
            'disp_value': disp_matches if disp_matches else ['na'],
            'control_card': control_card_name if control_card_name else 'na'
        })

    return results

def extract_cobol_ims(lines, dsn_matches, disp_matches, control_card_name):
    special_program_pattern = re.compile(r'^//\S+\s+EXEC\s+PGM=(DFSRRC00|IKJEFT01)', re.IGNORECASE)
    parm_pattern = re.compile(r"PARM=['\(]?\(?\s*(DLI|BMP),\s*(DSNMTV01,)?\s*([a-zA-Z0-9_]{1,8})(?:,|\s|$)", re.IGNORECASE)
    results = []
    handle_special_program = False

    for line in lines:
        if line.startswith('//*') or line.startswith('//**'):
            continue  # Ignore comment lines
        print("Processing line:", line)
        special_program_match = special_program_pattern.match(line)
        if special_program_match:
            handle_special_program = True
            continue
        if handle_special_program:
            parm_match = parm_pattern.findall(line)
            if parm_match:
                for match in parm_match:
                    if match[1] == 'DSNMTV01':
                        results.extend(extract_db2_ims(line, dsn_matches, disp_matches, control_card_name))
                    else:
                        current_program = match[2]
                        results.append({
                            'program_name_inside_proc': current_program,
                            'dsn_file_name': dsn_matches if dsn_matches else ['na'],
                            'disp_value': disp_matches if disp_matches else ['na'],
                            'control_card': control_card_name if control_card_name else 'na'
                        })
                        handle_special_program = False
                        return results
            dsn_matches += extract_dsn_filename([line])
            disp_matches += extract_disposition([line])

    return results

def extract_db2_ims(line, dsn_matches, disp_matches, control_card_name):
    parm_pattern = re.compile(r"DSNMTV01,\s*([a-zA-Z0-9_]{1,8})(?:,|\s|$)", re.IGNORECASE)
    results = []
    parm_match = re.search(parm_pattern, line)
    if parm_match:
        current_program = parm_match.group(1)
        results.append({
            'program_name_inside_proc': current_program,
            'dsn_file_name': dsn_matches if dsn_matches else ['na'],
            'disp_value': disp_matches if disp_matches else ['na'],
            'control_card': control_card_name if control_card_name else 'na'
        })
    return results

def extract_sysin_programs(lines, dsn_matches, disp_matches, control_card_name):
    sysin_pattern = re.compile(r'DD DSN=.*CTLCARDS\(([^)]+)\)', re.IGNORECASE)
    results = []
    for line in lines:
        if line.startswith('//*') or line.startswith('//**'):
            continue  # Ignore comment lines
        sysin_match = sysin_pattern.search(line)
        if sysin_match:
            current_program = sysin_match.group(1)
            results.append({
                'program_name_inside_proc': current_program,
                'dsn_file_name': ['none'],
                'disp_value': ['none'],
                'control_card': current_program
            })
    return results

def parse_proc_content(proc_content, proc_name, control_card_directory):
    lines = proc_content.splitlines()
    results = extract_general_programs(lines, control_card_directory)
    for result in results:
        result['proc_name'] = proc_name  # Adding proc_name to each result
    print('Final result:', results)
    return results

def traverse_proc_directory(proc_directory, control_card_directory):
    pattern = re.compile(r'^(?!\/\/\*{1,2})\/\/.*')
    all_proc_results = []

    for root, dirs, files in os.walk(proc_directory):
        for file in files:
            proc_name = extract_job_and_proc_name(file)[0]  # Assuming the first match is the proc name
            file_path = os.path.join(root, file)

            with open(file_path, 'r') as proc_file:
                content_lines = [line for line in proc_file if pattern.match(line)]
                content = "\n".join(content_lines)
                results = parse_proc_content(content, proc_name, control_card_directory)

                expanded_results = []
                for result in results:
                    expanded_results.append(result)

                all_proc_results.extend(expanded_results)

    # Convert to DataFrame for better visualization
    df = pd.DataFrame(all_proc_results)
    print(df)
    return df

def extract_control_card_programs(control_card, control_card_directory):
    control_card_path = os.path.join(control_card_directory, control_card + '.txt')
    programs = []
    if os.path.exists(control_card_path):
        with open(control_card_path, 'r') as file:
            lines = file.readlines()
            for line in lines:
                if line.strip():
                    programs.append({
                        'program_name_inside_proc': 'control_card_program',
                        'dsn_file_name': 'na',
                        'disp_value': 'na',
                        'control_card': line.strip()
                    })
    return programs

def extract_job_and_proc_name(file_name):
    job_pattern = re.compile(r'^(.*?)(?:\.\w+)?$')
    proc_pattern = re.compile(r'^(.*?)(?:\.PROC)?$')
    job_match = job_pattern.match(file_name)
    proc_match = proc_pattern.match(file_name)
    return job_match.groups(), proc_match.groups()
