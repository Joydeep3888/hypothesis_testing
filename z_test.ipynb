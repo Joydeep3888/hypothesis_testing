{
 "cells": [
  {
   "cell_type": "code",
   "execution_count": 4,
   "metadata": {},
   "outputs": [],
   "source": [
    "import numpy as np\n",
    "\n",
    "from scipy.stats import norm"
   ]
  },
  {
   "cell_type": "code",
   "execution_count": null,
   "metadata": {},
   "outputs": [],
   "source": []
  },
  {
   "cell_type": "code",
   "execution_count": 8,
   "metadata": {},
   "outputs": [
    {
     "name": "stdout",
     "output_type": "stream",
     "text": [
      "2.23606797749979\n"
     ]
    }
   ],
   "source": [
    "pop_mean = 1800\n",
    "pop_std = 100\n",
    "\n",
    "z = (1900 - 1800) / (100/np.sqrt(5))\n",
    "\n",
    "print(z)"
   ]
  },
  {
   "cell_type": "code",
   "execution_count": 9,
   "metadata": {},
   "outputs": [
    {
     "name": "stdout",
     "output_type": "stream",
     "text": [
      "0.0126736593387341\n"
     ]
    }
   ],
   "source": [
    "p_value = 1 - norm.cdf(z)\n",
    "print(p_value)"
   ]
  },
  {
   "cell_type": "code",
   "execution_count": 10,
   "metadata": {},
   "outputs": [
    {
     "name": "stdout",
     "output_type": "stream",
     "text": [
      "Fail to reject the null hypothesis\n"
     ]
    }
   ],
   "source": [
    "alpha = 0.01\n",
    "if p_value < alpha:\n",
    "  print(\"Reject the null hypothesis\")\n",
    "else:\n",
    "  print(\"Fail to reject the null hypothesis\")"
   ]
  },
  {
   "cell_type": "markdown",
   "metadata": {},
   "source": [
    "A country has a population average height of 65 inches with a standard deviation of 2.5. A person feels people from his state are shorter. He takes the average of 20 people and sees that it is 64.5.\n",
    "\n",
    "At a 5% significance level (or 95% confidence level), can we conclude that people from his state are shorter, using the Z-test? What is the p-value?"
   ]
  },
  {
   "cell_type": "code",
   "execution_count": 10,
   "metadata": {},
   "outputs": [
    {
     "name": "stdout",
     "output_type": "stream",
     "text": [
      "0.18554668476134878\n",
      "Accept null hypothesis\n"
     ]
    }
   ],
   "source": [
    "#Null Hypothesis (H0): People from the person's state are not shorter than the national average height. (i.e.,μ = 65)\n",
    "# Alternative Hypothesis (Ha): People from the person's state are shorter than the national average height. (i.e.,μ < 65)\n",
    "\n",
    "mu=65\n",
    "std=2.5\n",
    "x=64.5\n",
    "n=20\n",
    "alpha=0.05\n",
    "confidence_level=0.95\n",
    "z=(x-mu)/(2.5/np.sqrt(n))\n",
    "p_value=norm.cdf(z)\n",
    "print(p_value)\n",
    "if p_value<0.05: \n",
    "    print(\"reject null hypothesis\")\n",
    "else: \n",
    "    print(\"Accept null hypothesis\")\n",
    "\n",
    "#p-value = 0.18, and hence people from the state are not shorter"
   ]
  },
  {
   "cell_type": "markdown",
   "metadata": {},
   "source": [
    "A French cafe has historically maintained that their average daily pastry production is at most 500.\n",
    "\n",
    "With the installation of a new machine, they assert that the average daily pastry production has increased. The average number of pastries produced per day over a 70-day period was found to be 530.\n",
    "\n",
    "Assume that the population standard deviation for the pastries produced per day is 125.\n",
    "\n",
    "Perform a z-test with the critical z-value = 1.64 at the alpha (significance level) = 0.05 to evaluate if there's sufficient evidence to support their claim of the new machine producing more than 500 pastries daily.\n",
    "\n",
    "Note: Round off the z-score to two decimal places."
   ]
  },
  {
   "cell_type": "code",
   "execution_count": 27,
   "metadata": {},
   "outputs": [
    {
     "name": "stdout",
     "output_type": "stream",
     "text": [
      "for z critical 1.64, te mu is the range of 524.502186491355 and 475.4978135086449\n"
     ]
    }
   ],
   "source": [
    "mu=500\n",
    "x=530\n",
    "std=125\n",
    "n=70\n",
    "z_critical=1.64\n",
    "alpha=0.05\n",
    "cl=1-0.05\n",
    "cl\n",
    "norm.ppf(0.95)\n",
    "x1=mu+((std)/(np.sqrt(n)))*z_critical\n",
    "x1\n",
    "x2=mu-((std)/(np.sqrt(n)))*z_critical\n",
    "x2\n",
    "print(f\"for z critical 1.64, te mu is the range of {x1} and {x2}\")"
   ]
  },
  {
   "cell_type": "code",
   "execution_count": 32,
   "metadata": {},
   "outputs": [
    {
     "name": "stdout",
     "output_type": "stream",
     "text": [
      "2.007984063681781\n",
      "reject null hyp\n"
     ]
    }
   ],
   "source": [
    "z=(x-mu)/(std/np.sqrt(n))\n",
    "print(z)\n",
    "p=1-norm.cdf(z)\n",
    "if p<alpha: \n",
    "    print(\"reject null hyp\")\n",
    "else: \n",
    "    print(\"failed to reject null hyp\")\n",
    "    "
   ]
  },
  {
   "cell_type": "markdown",
   "metadata": {},
   "source": [
    "The Chai Point stall at Bengaluru airport estimates that each person visiting the store drinks an average of 1.7 small cups of tea.\n",
    "\n",
    "Assume a population standard deviation of 0.5 small cups. A sample of 30 customers collected over a few days averaged 1.85 small cups of tea per person.\n",
    "\n",
    "Test the claim using an appropriate test at an alpha = 0.05 significance value, with a critical z-score value of ±1.96.\n",
    "\n",
    "Note: Round off the z-score to two decimal places."
   ]
  },
  {
   "cell_type": "code",
   "execution_count": 36,
   "metadata": {},
   "outputs": [
    {
     "name": "stdout",
     "output_type": "stream",
     "text": [
      "1.6431676725155\n",
      "failed to reject null hypothesiss\n"
     ]
    }
   ],
   "source": [
    "mu=1.7\n",
    "std=0.5\n",
    "n=30\n",
    "x=1.85\n",
    "alpha=0.05\n",
    "z_critical=1.96\n",
    "\n",
    "z=(1.85-1.7)/(std/np.sqrt(30))\n",
    "if z<z_critical: \n",
    "    print(z)\n",
    "    print(\"failed to reject null hypothesiss\")\n",
    "else: \n",
    "    print(z)\n",
    "    print(\"reject null hypothesis\")\n"
   ]
  },
  {
   "cell_type": "markdown",
   "metadata": {},
   "source": [
    "1. if z<z critical, we fail to reject null hyp\n",
    "2. if z>z critical we reject null hyp\n",
    "3. if p<alpha we reject null hyp\n",
    "4. if p>alpha we fail to reject null hyp"
   ]
  },
  {
   "cell_type": "markdown",
   "metadata": {},
   "source": [
    "A data scientist is looking at how a web application responds, with an average response time of 250 milliseconds and a standard deviation of 30 milliseconds.\n",
    "\n",
    "Find the critical value for a 96% confidence level."
   ]
  },
  {
   "cell_type": "code",
   "execution_count": 47,
   "metadata": {},
   "outputs": [
    {
     "name": "stdout",
     "output_type": "stream",
     "text": [
      "0.040000000000000036\n",
      "0.020000000000000018\n",
      "1.959963984540054\n"
     ]
    },
    {
     "data": {
      "text/plain": [
       "308.79891953620165"
      ]
     },
     "execution_count": 47,
     "metadata": {},
     "output_type": "execute_result"
    }
   ],
   "source": [
    "mu=250\n",
    "std=30\n",
    "cl=0.96\n",
    "alph1=1-0.96\n",
    "print(alph1)\n",
    "print((1 -cl) / 2)\n",
    "z_critical=norm.ppf(1-(alpha/2))\n",
    "print(z_critical)\n",
    "x=mu+(z_critical*(std))\n",
    "x"
   ]
  },
  {
   "cell_type": "code",
   "execution_count": null,
   "metadata": {},
   "outputs": [],
   "source": []
  },
  {
   "cell_type": "markdown",
   "metadata": {},
   "source": [
    "A marketing team aims to estimate the average time, visitors spend on their website.\n",
    "\n",
    "They gathered a random sample of 100 visitors and determined that the average time spent on the website was 4.5 minutes.\n",
    "\n",
    "The team is working under the assumption that the population's mean time spent on the website is 4.0 minutes, with a standard deviation of 1.2 minutes.\n",
    "\n",
    "Their goal is to estimate the true time spent on the website with a 95% confidence level. Calculate the confidence interval values and make a conclusion based on the calculated interval."
   ]
  },
  {
   "cell_type": "code",
   "execution_count": null,
   "metadata": {},
   "outputs": [],
   "source": []
  },
  {
   "cell_type": "code",
   "execution_count": 64,
   "metadata": {},
   "outputs": [
    {
     "name": "stdout",
     "output_type": "stream",
     "text": [
      "0.05\n",
      "1.959963984540054\n",
      "0.23519567814480646\n",
      "4.735195678144806 4.264804321855194\n",
      "The population mean does not fall within the confidence interval. Then we reject the null hypothesis\n"
     ]
    }
   ],
   "source": [
    "n=100\n",
    "x=4.5\n",
    "population_mean=4\n",
    "std=1.2\n",
    "cl=0.95\n",
    "alpha=0.05\n",
    "print(alpha)\n",
    "z_critical=norm.ppf(1-alpha/2)\n",
    "print(z_critical)\n",
    "marginal_error=z_critical*(std/np.sqrt(n))\n",
    "print(margin_of_error)\n",
    "\n",
    "confidence_interval=(x+marginal_error, x-marginal_error)\n",
    "print(confidence_interval[0], confidence_interval[1])\n",
    "\n",
    "if confidence_interval[0] <= population_mean <= confidence_interval[1]:\n",
    "   print(\"The population mean falls within the confidence interval. Then we fail to reject the null hypothesis\")\n",
    "else:\n",
    "   print(\"The population mean does not fall within the confidence interval. Then we reject the null hypothesis\")"
   ]
  },
  {
   "cell_type": "markdown",
   "metadata": {},
   "source": [
    "1. h0=The average time spent on the website is 4.0 minutes\n",
    "2. ha=The average time spent on the website is not 4.0 minutes"
   ]
  },
  {
   "cell_type": "code",
   "execution_count": 67,
   "metadata": {},
   "outputs": [],
   "source": [
    "'''A researcher is conducting a hypothesis test with a significance level (α) of 0.05.\n",
    "\n",
    "The null hypothesis is that there is no effect, and the alternative hypothesis is that there is a significant effect. \n",
    "\n",
    "The researcher calculates the power of the test to be 0.80.\n",
    "\n",
    "What does a power of 0.80 signify in this context?'''\n",
    "\n",
    "\n",
    "alpha=0.05\n",
    "#h0 there is no effect\n",
    "#h1 there is a significant effect\n",
    "\n",
    "#Ans: #The probability of correctly rejecting a false null hypothesis."
   ]
  },
  {
   "cell_type": "code",
   "execution_count": 78,
   "metadata": {
    "scrolled": true
   },
   "outputs": [
    {
     "name": "stdout",
     "output_type": "stream",
     "text": [
      "4.714045207910317\n",
      "reject null hyp iq>100\n"
     ]
    }
   ],
   "source": [
    "'''It is known that the mean IQ of high school students is 100, and the standard deviation is 15.\n",
    "\n",
    "A coaching institute claims that candidates who study there have more IQ than an average high school student. \n",
    "When the IQ of 50 candidates was calculated, the average turned out to be 110\n",
    "\n",
    "Conduct an appropriate hypothesis test to test the institute’s claim, with a significance level of 5%'''\n",
    "#h0=100\n",
    "#ha>100\n",
    "\n",
    "mu=100\n",
    "x=110\n",
    "std=15\n",
    "n=50\n",
    "alpha=0.05\n",
    "\n",
    "z=(x-mu)/(std/np.sqrt(n))\n",
    "\n",
    "print(z)\n",
    "\n",
    "p_value=1-norm.cdf(z)\n",
    "if p_value<alpha: \n",
    "    print(\"reject null hyp iq>100\")\n",
    "else:\n",
    "    print(\"failed to reject null hyp iq=100\")\n"
   ]
  },
  {
   "cell_type": "markdown",
   "metadata": {},
   "source": [
    "When smokers smoke, nicotine is transformed into cotinine, which can be tested.\n",
    "\n",
    "The average cotinine level in a group of 50 smokers was 243.5 ng ml.\n",
    "\n",
    "Assuming that the standard deviation is known to be 229.5 ng ml.\n",
    "\n",
    "Test the assertion that the mean cotinine level of all smokers is equal to 300.0 ng ml, at 95% confidence."
   ]
  },
  {
   "cell_type": "code",
   "execution_count": 85,
   "metadata": {},
   "outputs": [
    {
     "name": "stdout",
     "output_type": "stream",
     "text": [
      "-1.7408075440976007\n",
      "0.04085865957574815 0.025000000000000022\n",
      "failed to reject null hyp, not 300\n"
     ]
    }
   ],
   "source": [
    "n=50 \n",
    "x=243.5\n",
    "std=229.5\n",
    "mu=300\n",
    "z=(x-mu)/(std/np.sqrt(n))\n",
    "alpha=(1-0.95)/2\n",
    "print(z)\n",
    "p_value=norm.cdf(z)\n",
    "print(p_value, alpha)\n",
    "if p_value<alpha: \n",
    "    print(\"reject null hyp is 300\")\n",
    "else:\n",
    "    print(\"failed to reject null hyp, not 300\")\n"
   ]
  },
  {
   "cell_type": "code",
   "execution_count": null,
   "metadata": {},
   "outputs": [],
   "source": [
    "#h0 300.0 \n",
    "#h1 not 300"
   ]
  },
  {
   "cell_type": "markdown",
   "metadata": {},
   "source": [
    "## Quiz 4"
   ]
  },
  {
   "cell_type": "code",
   "execution_count": 11,
   "metadata": {},
   "outputs": [],
   "source": [
    "# Given information\n",
    "population_mean =  8000 # average steps per day\n",
    "population_std_dev = 1200  # standard deviation\n",
    "sample_size = 30  # sample size\n",
    "sample_mean = 7600  # sample mean\n",
    "alpha = 0.05 # significance level"
   ]
  },
  {
   "cell_type": "code",
   "execution_count": 13,
   "metadata": {},
   "outputs": [
    {
     "name": "stdout",
     "output_type": "stream",
     "text": [
      "-1.8257418583505536\n"
     ]
    }
   ],
   "source": [
    "# Calculate the z-score\n",
    "z_score = (sample_mean - population_mean) / (population_std_dev / np.sqrt(sample_size))\n",
    "\n",
    "print(z_score)\n",
    "\n",
    "# calculate p value\n",
    "pval = 1 - norm.cdf(z_score)"
   ]
  },
  {
   "cell_type": "code",
   "execution_count": 14,
   "metadata": {},
   "outputs": [
    {
     "name": "stdout",
     "output_type": "stream",
     "text": [
      "z-score: -1.8257418583505536\n",
      "p-value: 0.9660554225690855\n",
      "Fail to reject the null hypothesis.\n"
     ]
    }
   ],
   "source": [
    "# Compare the calculated z-score with the critical z-value\n",
    "if pval < alpha:\n",
    "    conclusion = \"Reject the null hypothesis.\"\n",
    "else:\n",
    "    conclusion = \"Fail to reject the null hypothesis.\"\n",
    "\n",
    "print(\"z-score:\", z_score)\n",
    "print(\"p-value:\", pval)\n",
    "print(conclusion)"
   ]
  },
  {
   "cell_type": "markdown",
   "metadata": {},
   "source": [
    "Q) In a dataset of exam scores with a mean of 60 and a standard deviation of 15,\n",
    "What is the critical value for the corresponding Z-score at a 95% confidence level?"
   ]
  },
  {
   "cell_type": "code",
   "execution_count": null,
   "metadata": {},
   "outputs": [],
   "source": [
    "## X = (Z * sigma) + mu"
   ]
  },
  {
   "cell_type": "code",
   "execution_count": 15,
   "metadata": {},
   "outputs": [
    {
     "data": {
      "text/plain": [
       "1.6448536269514722"
      ]
     },
     "execution_count": 15,
     "metadata": {},
     "output_type": "execute_result"
    }
   ],
   "source": [
    "z = norm.ppf(0.95)\n",
    "z"
   ]
  },
  {
   "cell_type": "code",
   "execution_count": 16,
   "metadata": {},
   "outputs": [
    {
     "data": {
      "text/plain": [
       "84.67280440427209"
      ]
     },
     "execution_count": 16,
     "metadata": {},
     "output_type": "execute_result"
    }
   ],
   "source": [
    "# Critical value will be\n",
    "\n",
    "X = ((z)*15) + 60\n",
    "X"
   ]
  },
  {
   "cell_type": "markdown",
   "metadata": {},
   "source": [
    "## Confindence Intervals"
   ]
  },
  {
   "cell_type": "code",
   "execution_count": 17,
   "metadata": {},
   "outputs": [],
   "source": [
    "import numpy as np\n",
    "from scipy.stats import norm"
   ]
  },
  {
   "cell_type": "code",
   "execution_count": 18,
   "metadata": {},
   "outputs": [],
   "source": [
    "# Given data\n",
    "population_mean = 1800\n",
    "sample_mean = 1850\n",
    "population_stddev = 100\n",
    "sample_size = np.sqrt(50)\n",
    "alpha = 0.01  # Significance level (1 - alpha will give us the confidence level)"
   ]
  },
  {
   "cell_type": "code",
   "execution_count": 19,
   "metadata": {},
   "outputs": [
    {
     "data": {
      "text/plain": [
       "2.3263478740408408"
      ]
     },
     "execution_count": 19,
     "metadata": {},
     "output_type": "execute_result"
    }
   ],
   "source": [
    "# Calculate the critical value (Z) for a right-tailed test at the given alpha level\n",
    "z_critical = norm.ppf(1 - alpha)\n",
    "\n",
    "z_critical"
   ]
  },
  {
   "cell_type": "code",
   "execution_count": 22,
   "metadata": {},
   "outputs": [
    {
     "name": "stdout",
     "output_type": "stream",
     "text": [
      "32.899527142663736\n"
     ]
    }
   ],
   "source": [
    "# Calculate the margin of error\n",
    "margin_of_error = z_critical * (population_stddev / sample_size)\n",
    "\n",
    "print(margin_of_error)"
   ]
  },
  {
   "cell_type": "code",
   "execution_count": 21,
   "metadata": {},
   "outputs": [
    {
     "name": "stdout",
     "output_type": "stream",
     "text": [
      "Confidence Interval: (1817.1004728573362, 1882.8995271426638)\n"
     ]
    }
   ],
   "source": [
    "# Calculate the confidence interval\n",
    "confidence_interval = (sample_mean - margin_of_error, sample_mean + margin_of_error)\n",
    "\n",
    "print(\"Confidence Interval:\", confidence_interval)"
   ]
  },
  {
   "cell_type": "code",
   "execution_count": 23,
   "metadata": {},
   "outputs": [
    {
     "name": "stdout",
     "output_type": "stream",
     "text": [
      "The population mean does not fall within the confidence interval. Then we reject the null hypothesis\n"
     ]
    }
   ],
   "source": [
    "# Check if the population mean (1800) falls within the confidence interval\n",
    "\n",
    "if confidence_interval[0] <= population_mean <= confidence_interval[1]:\n",
    "    print(\"The population mean falls within the confidence interval. Then we fail to reject the null hypothesis\")\n",
    "else:\n",
    "    print(\"The population mean does not fall within the confidence interval. Then we reject the null hypothesis\")"
   ]
  },
  {
   "cell_type": "markdown",
   "metadata": {},
   "source": [
    "## Marketing Case Study"
   ]
  },
  {
   "cell_type": "code",
   "execution_count": 5,
   "metadata": {},
   "outputs": [],
   "source": [
    "import pandas as pd\n",
    "import numpy as np\n",
    "from scipy.stats import norm"
   ]
  },
  {
   "cell_type": "code",
   "execution_count": 6,
   "metadata": {},
   "outputs": [],
   "source": [
    "# Given information\n",
    "population_mean =  8000 # average steps per day\n",
    "population_std_dev = 1200  # standard deviation\n",
    "sample_size = 30  # sample size\n",
    "sample_mean = 7600  # sample mean\n",
    "alpha = 0.05 # significance level"
   ]
  },
  {
   "cell_type": "code",
   "execution_count": 8,
   "metadata": {},
   "outputs": [
    {
     "name": "stdout",
     "output_type": "stream",
     "text": [
      "Z-Score: -1.8257418583505536\n",
      "p-value: 0.9660554225690855\n"
     ]
    }
   ],
   "source": [
    "# Calculate the z-score\n",
    "z_score = (sample_mean - population_mean) / (population_std_dev / np.sqrt(sample_size))\n",
    "\n",
    "# calculate p value\n",
    "pval = 1 - norm.cdf(z_score)\n",
    "\n",
    "print(f'Z-Score: {z_score}')\n",
    "print(f'p-value: {pval}')"
   ]
  },
  {
   "cell_type": "code",
   "execution_count": 9,
   "metadata": {},
   "outputs": [
    {
     "name": "stdout",
     "output_type": "stream",
     "text": [
      "z-score: -1.8257418583505536\n",
      "p-value: 0.9660554225690855\n",
      "Fail to reject the null hypothesis.\n"
     ]
    }
   ],
   "source": [
    "# Compare the calculated z-score with the critical z-value\n",
    "if pval < alpha:\n",
    "    conclusion = \"Reject the null hypothesis.\"\n",
    "else:\n",
    "    conclusion = \"Fail to reject the null hypothesis.\"\n",
    "\n",
    "print(\"z-score:\", z_score)\n",
    "print(\"p-value:\", pval)\n",
    "print(conclusion)"
   ]
  },
  {
   "cell_type": "markdown",
   "metadata": {},
   "source": [
    "A fitness App claims that its users walk an average of 8,000 steps per day.\n",
    "A random sample of 30 users showed an average of 7,600 steps per day with a standard deviation of 1,200 steps.\n",
    "Conduct a right-tailed Z-test at a 5% significance level to determine if the App's claim is supported.\n",
    "What is the p-value?"
   ]
  },
  {
   "cell_type": "code",
   "execution_count": 15,
   "metadata": {},
   "outputs": [
    {
     "name": "stdout",
     "output_type": "stream",
     "text": [
      "0.9660554225690855\n",
      "Fail to reject null hypothesis\n"
     ]
    }
   ],
   "source": [
    "mu=8000\n",
    "x=7600 \n",
    "n=30\n",
    "std=1200\n",
    "alpha=0.05\n",
    "z=(x-mu)/(std/np.sqrt(n))\n",
    "p_value=1-norm.cdf(z)\n",
    "print(p_value)\n",
    "\n",
    "if p_value<alpha: \n",
    "    print(\"reject null hypothesis\")\n",
    "else: \n",
    "    print(\"Fail to reject null hypothesis\")\n",
    "\n",
    "#null:A fitness App claims that its users walk an average of 8,000 steps per day\n",
    "#alternate:  7,600 steps "
   ]
  },
  {
   "cell_type": "markdown",
   "metadata": {},
   "source": [
    "In a dataset of exam scores with a mean of 60 and a standard deviation of 15,\n",
    "What is the critical value for the corresponding Z-score at a 95% confidence level?"
   ]
  },
  {
   "cell_type": "code",
   "execution_count": 19,
   "metadata": {},
   "outputs": [
    {
     "data": {
      "text/plain": [
       "84.67280440427209"
      ]
     },
     "execution_count": 19,
     "metadata": {},
     "output_type": "execute_result"
    }
   ],
   "source": [
    "mu=60\n",
    "std=15\n",
    "#z_critical=?\n",
    "cl=0.95\n",
    "z_critical=norm.ppf(cl)\n",
    "x=z_critical*(std/1)+mu\n",
    "x\n"
   ]
  },
  {
   "cell_type": "markdown",
   "metadata": {},
   "source": [
    "## Critical Value"
   ]
  },
  {
   "cell_type": "code",
   "execution_count": 11,
   "metadata": {},
   "outputs": [],
   "source": [
    "# Given information\n",
    "population_mean =  1800 # average steps per day\n",
    "population_std_dev = 100  # standard deviation\n",
    "sample_size = 50  # sample size\n",
    "sample_mean = 1800  # sample mean\n",
    "alpha = 0.01 # significance level"
   ]
  },
  {
   "cell_type": "code",
   "execution_count": 12,
   "metadata": {},
   "outputs": [
    {
     "data": {
      "text/plain": [
       "2.3263478740408408"
      ]
     },
     "execution_count": 12,
     "metadata": {},
     "output_type": "execute_result"
    }
   ],
   "source": [
    "#For norm.ppf() we pass the confidence level\n",
    "\n",
    "z = norm.ppf(0.99)\n",
    "z"
   ]
  },
  {
   "cell_type": "code",
   "execution_count": 13,
   "metadata": {},
   "outputs": [
    {
     "data": {
      "text/plain": [
       "2.3263478740408408"
      ]
     },
     "execution_count": 13,
     "metadata": {},
     "output_type": "execute_result"
    }
   ],
   "source": [
    "#For norm.isf() we pass the significance level\n",
    "\n",
    "z_critical = norm.isf(q=0.01)\n",
    "z_critical"
   ]
  },
  {
   "cell_type": "code",
   "execution_count": 17,
   "metadata": {},
   "outputs": [
    {
     "data": {
      "text/plain": [
       "True"
      ]
     },
     "execution_count": 17,
     "metadata": {},
     "output_type": "execute_result"
    }
   ],
   "source": [
    "z == z_critical"
   ]
  },
  {
   "cell_type": "code",
   "execution_count": 16,
   "metadata": {},
   "outputs": [
    {
     "data": {
      "text/plain": [
       "1832.8995271426638"
      ]
     },
     "execution_count": 16,
     "metadata": {},
     "output_type": "execute_result"
    }
   ],
   "source": [
    "import numpy as np\n",
    "\n",
    "x = (z*(100/np.sqrt(50))) + 1800\n",
    "x"
   ]
  },
  {
   "cell_type": "code",
   "execution_count": null,
   "metadata": {},
   "outputs": [],
   "source": []
  }
 ],
 "metadata": {
  "kernelspec": {
   "display_name": "Python 3 (ipykernel)",
   "language": "python",
   "name": "python3"
  },
  "language_info": {
   "codemirror_mode": {
    "name": "ipython",
    "version": 3
   },
   "file_extension": ".py",
   "mimetype": "text/x-python",
   "name": "python",
   "nbconvert_exporter": "python",
   "pygments_lexer": "ipython3",
   "version": "3.11.4"
  }
 },
 "nbformat": 4,
 "nbformat_minor": 4
}
