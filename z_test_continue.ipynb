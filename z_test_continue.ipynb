{
 "cells": [
  {
   "cell_type": "code",
   "execution_count": 1,
   "metadata": {
    "colab": {
     "base_uri": "https://localhost:8080/"
    },
    "id": "8XKZ2MfVSdiU",
    "outputId": "723c6e71-3552-42fe-8f5d-20b3996109e1"
   },
   "outputs": [
    {
     "name": "stdout",
     "output_type": "stream",
     "text": [
      "M1_data: [6.0, 6.0, 11.0, 7.0, 19.0, 6.0, 13.0, 10.0, 18.0, 7.0, 10.0, 10.0, 9.0, 5.0, 12.0, 6.0, 14.0, 6.0, 10.0, 12.0, 19.0, 6.0, 7.0, 17.0, 5.0, 19.0, 14.0, 9.0, 18.0, 17.0, 10.0, 17.0, 8.0, 14.0, 13.0, 17.0, 10.0, 11.0, 17.0, 13.0, 15.0, 15.0, 15.0, 18.0, 12.0, 15.0, 11.0, 5.0, 16.0, 8.0, 17.0, 19.0, 15.0, 8.0, 10.0, 11.0, 6.0, 12.0, 14.0, 10.0, 8.0, 6.0, 14.0, 5.0, 10.0, 8.0, 13.0, 16.0, 19.0, 15.0, 20.0, 19.0, 14.0, 9.0, 12.0, 8.0, 20.0, 12.0, 16.0, 6.0, 7.0, 8.0, 9.0, 10.0, 9.0, 12.0, 11.0, 7.0, 6.0, 10.0, 6.0, 11.0, 5.0, 13.0, 6.0, 15.0, 11.0, 20.0, 9.0, 12.0]\n"
     ]
    }
   ],
   "source": [
    "import random\n",
    "import numpy as np\n",
    "\n",
    "# Set a random seed for reproducibility\n",
    "# Setting random seed to 123 for consistent, deterministic generation of recovery times across groups.\n",
    "random.seed(123)  # You can use any integer as the seed\n",
    "\n",
    "# Create an empty list to store the recovery times\n",
    "M1_data = []\n",
    "\n",
    "# Generate 100 random recovery times\n",
    "# The underscore _ in the loop is a placeholder, signifying indifference to the counter value and solely focusing on executing the code block 100 times.\n",
    "for _ in range(100):\n",
    "    recovery_time = random.uniform(5.0, 20.0)  # Generating values between 5 and 20\n",
    "    M1_data.append(np.round(recovery_time,0)) # Rounding recovery time to whole numbers\n",
    "\n",
    "# Print the generated data\n",
    "print(\"M1_data:\",M1_data)"
   ]
  },
  {
   "cell_type": "code",
   "execution_count": 2,
   "metadata": {
    "colab": {
     "base_uri": "https://localhost:8080/"
    },
    "id": "yN73gvdcenfn",
    "outputId": "84b009de-f4d6-4000-e1cf-06089bb73880"
   },
   "outputs": [
    {
     "name": "stdout",
     "output_type": "stream",
     "text": [
      "M2_data: [24.0, 13.0, 14.0, 21.0, 29.0, 27.0, 15.0, 23.0, 22.0, 14.0, 11.0, 7.0, 27.0, 6.0, 18.0, 18.0, 9.0, 21.0, 28.0, 24.0, 15.0, 8.0, 29.0, 18.0, 21.0, 25.0, 15.0, 7.0, 8.0, 22.0, 14.0, 27.0, 24.0, 30.0, 22.0, 13.0, 25.0, 6.0, 18.0, 27.0, 18.0, 8.0, 18.0, 19.0, 14.0, 27.0, 14.0, 12.0, 18.0, 10.0, 13.0, 15.0, 28.0, 7.0, 10.0, 10.0, 30.0, 27.0, 10.0, 19.0, 7.0, 13.0, 14.0, 18.0, 28.0, 25.0, 18.0, 25.0, 17.0, 23.0, 24.0, 11.0, 26.0, 19.0, 17.0, 15.0, 11.0, 18.0, 8.0, 21.0, 27.0, 25.0, 20.0, 17.0, 22.0, 8.0, 6.0, 27.0, 14.0, 22.0]\n"
     ]
    }
   ],
   "source": [
    "# Create an empty list to store the recovery times\n",
    "M2_data = []\n",
    "\n",
    "# Generate 90 random recovery times\n",
    "for _ in range(90):\n",
    "    recovery_time = random.uniform(5.0, 30.0) # Generating values between 5 and 30\n",
    "    M2_data.append(np.round(recovery_time,0)) # Rounding recovery time to whole numbers\n",
    "\n",
    "# Print the generated data\n",
    "print(\"M2_data:\",M2_data)"
   ]
  },
  {
   "cell_type": "code",
   "execution_count": 3,
   "metadata": {
    "id": "xCZfBodserwT"
   },
   "outputs": [],
   "source": [
    "# import a library to perform a Z-test\n",
    "from statsmodels.stats import weightstats as stests\n",
    "from scipy import stats\n",
    "import random\n",
    "import numpy as np"
   ]
  },
  {
   "cell_type": "code",
   "execution_count": 6,
   "metadata": {},
   "outputs": [],
   "source": [
    "#pip install statsmodels"
   ]
  },
  {
   "cell_type": "code",
   "execution_count": 7,
   "metadata": {
    "colab": {
     "base_uri": "https://localhost:8080/"
    },
    "id": "lFVfif5we03l",
    "outputId": "d9026cfb-7232-49d4-f9fb-293da1267554"
   },
   "outputs": [
    {
     "name": "stdout",
     "output_type": "stream",
     "text": [
      "Z-score:  -7.68917478890992\n",
      "p-value:  1.4808703984296164e-14\n"
     ]
    }
   ],
   "source": [
    "z_score, pval = stests.ztest(x1 = M1_data, x2 = M2_data, value = 0, alternative = 'two-sided')\n",
    "\n",
    "# print the test statistic and corresponding p-value\n",
    "print(\"Z-score: \", z_score)\n",
    "print(\"p-value: \", pval)"
   ]
  },
  {
   "cell_type": "code",
   "execution_count": null,
   "metadata": {
    "colab": {
     "base_uri": "https://localhost:8080/"
    },
    "id": "1IVkITjle_B3",
    "outputId": "d3400e70-16d5-4092-d2d0-6e9929c66bc4"
   },
   "outputs": [
    {
     "name": "stdout",
     "output_type": "stream",
     "text": [
      "Reject the null hypothesis, (i.e, The recovery time of two medicines are different)\n"
     ]
    }
   ],
   "source": [
    "alpha = 0.01\n",
    "\n",
    "if pval < alpha:\n",
    "  print(\"Reject the null hypothesis, (i.e, The recovery time of two medicines are different)\")\n",
    "else:\n",
    "  print(\"Fail to reject the null hypothesis  (i.e, The recovery time of two medicines are same)\")"
   ]
  },
  {
   "cell_type": "code",
   "execution_count": null,
   "metadata": {
    "id": "4bVSwe2Bfl3O"
   },
   "outputs": [],
   "source": []
  },
  {
   "cell_type": "markdown",
   "metadata": {
    "id": "Vp9ZB2fegM9g"
   },
   "source": [
    "A car manufacturer conducted a study to compare the fuel efficiency of two different engine types: Engine X and Engine Y.\n",
    "\n",
    "They collected data from two groups: Group X and Group Y.\n",
    "\n",
    "In Group X, a random sample of 50 cars with Engine X had an average fuel efficiency of 30 miles per gallon (mpg) with a standard deviation of 3 mpg.\n",
    "In Group Y, a random sample of 60 cars with Engine Y had an average fuel efficiency of 32 mpg with a standard deviation of 2.5 mpg."
   ]
  },
  {
   "cell_type": "code",
   "execution_count": 8,
   "metadata": {
    "id": "swAHiMSGgQmD"
   },
   "outputs": [],
   "source": [
    "from scipy import stats\n"
   ]
  },
  {
   "cell_type": "markdown",
   "metadata": {
    "id": "7FRxtTJ5gdMr"
   },
   "source": [
    "### Null hypothesis: The population means of fuel efficiency for Engine X and Engine Y are the same."
   ]
  },
  {
   "cell_type": "code",
   "execution_count": null,
   "metadata": {},
   "outputs": [],
   "source": []
  },
  {
   "cell_type": "markdown",
   "metadata": {
    "id": "h-WzisDqhL92"
   },
   "source": [
    "### Alternative hypothesis: One engine type is more fuel-efficient than the other.\n"
   ]
  },
  {
   "cell_type": "code",
   "execution_count": 9,
   "metadata": {
    "id": "tzGpjyqygWB_"
   },
   "outputs": [],
   "source": [
    "# Define the function to calculate the test statistic and corresponding p-value\n",
    "def TwoSampZTest(samp_mean_1, samp_mean_2, samp_std_1, samp_std_2, n1, n2):\n",
    "  # Calculate the test statistic\n",
    "  denominator = np.sqrt((samp_std_1**2 / n1) + (samp_std_2**2 / n2))\n",
    "  z_score = (samp_mean_1 - samp_mean_2) / denominator\n",
    "  return z_score\n"
   ]
  },
  {
   "cell_type": "code",
   "execution_count": 10,
   "metadata": {
    "id": "SKu9VienhawB"
   },
   "outputs": [],
   "source": [
    "# Given data\n",
    "sample_mean_X = 30 # Average fuel efficiency for Group X (Engine X)\n",
    "sample_mean_Y = 32 # Average fuel efficiency for Group Y (Engine Y)\n",
    "sample_std_X = 3 # Standard deviation for Group X\n",
    "sample_std_Y = 2.5 # Standard deviation for Group Y\n",
    "significance_level = 0.05\n",
    "sample_size_X = 50 # Sample size for Group X\n",
    "sample_size_Y = 60 # Sample size for Group Y\n"
   ]
  },
  {
   "cell_type": "code",
   "execution_count": 11,
   "metadata": {
    "colab": {
     "base_uri": "https://localhost:8080/"
    },
    "id": "dcmzxjYkhmb9",
    "outputId": "b83a96c8-5a8a-42c2-ee92-8e7f81c96767"
   },
   "outputs": [
    {
     "data": {
      "text/plain": [
       "-3.751832396884334"
      ]
     },
     "execution_count": 11,
     "metadata": {},
     "output_type": "execute_result"
    }
   ],
   "source": [
    "# Calculate the z-score using the function\n",
    "z_score = TwoSampZTest(sample_mean_X, sample_mean_Y, sample_std_X, sample_std_Y, sample_size_X, sample_size_Y)\n",
    "z_score"
   ]
  },
  {
   "cell_type": "code",
   "execution_count": null,
   "metadata": {
    "id": "9f8S0h_0krdu"
   },
   "outputs": [],
   "source": []
  },
  {
   "cell_type": "code",
   "execution_count": 14,
   "metadata": {
    "id": "1ilJC--ehq7Q"
   },
   "outputs": [
    {
     "name": "stdout",
     "output_type": "stream",
     "text": [
      "0.00017554681014564366 0.00017554681014568025\n"
     ]
    }
   ],
   "source": [
    "p_value = 2 * (1 - stats.norm.cdf(abs(z_score)))\n",
    "p_value_diff=(1 - stats.norm.cdf(abs(z_score)))+  stats.norm.cdf(z_score)\n",
    "print(p_value, p_value_diff)"
   ]
  },
  {
   "cell_type": "code",
   "execution_count": 13,
   "metadata": {
    "colab": {
     "base_uri": "https://localhost:8080/"
    },
    "id": "Fl2aol-Qkq_d",
    "outputId": "d87badd8-4569-4bf7-99bf-0db6dcc6426b"
   },
   "outputs": [
    {
     "data": {
      "text/plain": [
       "0.00017554681014564366"
      ]
     },
     "execution_count": 13,
     "metadata": {},
     "output_type": "execute_result"
    }
   ],
   "source": [
    "p_value"
   ]
  },
  {
   "cell_type": "code",
   "execution_count": null,
   "metadata": {
    "colab": {
     "base_uri": "https://localhost:8080/"
    },
    "id": "MdQaEnc8kZi8",
    "outputId": "e5076b93-c5fc-4454-c56b-e8efb6366abf"
   },
   "outputs": [
    {
     "name": "stdout",
     "output_type": "stream",
     "text": [
      "z-score: -3.7518\n",
      "p-value: 0.0002\n",
      "Conclusion: Reject the null hypothesis. Engine Y is more fuel-efficient.\n"
     ]
    }
   ],
   "source": [
    "# Compare the p-value to the significance level\n",
    "if p_value < significance_level:\n",
    "  conclusion = \"Reject the null hypothesis. Engine Y is more fuel-efficient.\"\n",
    "else:\n",
    "  conclusion = \"Fail to reject the null hypothesis. No significant difference in fuel efficiency.\"\n",
    "\n",
    "print(f'z-score: {z_score:.4f}')\n",
    "print(f'p-value: {p_value:.4f}')\n",
    "print('Conclusion:', conclusion)"
   ]
  },
  {
   "cell_type": "code",
   "execution_count": 19,
   "metadata": {
    "id": "fHPYdfv5kmkv"
   },
   "outputs": [],
   "source": [
    "# Null Hypothesis (H0): The average heights of plants grown with fertilizers X and Y are equal (μ₁ = μ₂).\n",
    "# Alternative Hypothesis (Ha): The average heights of plants grown with fertilizers X and Y are different (μ₁ ≠ μ₂)"
   ]
  },
  {
   "cell_type": "markdown",
   "metadata": {},
   "source": [
    "Determine whether there is a statistically significant difference in the average heights of plants grown with fertilizer X and fertilizer Y.\n",
    "Group A (Fertilizer X): Heights = [14, 16, 13, 17, 12, 18]\n",
    "Group B (Fertilizer Y): Heights = [18, 19, 16, 17, 15, 20]\n",
    "Significance Level (α): 0.1"
   ]
  },
  {
   "cell_type": "code",
   "execution_count": 26,
   "metadata": {},
   "outputs": [
    {
     "name": "stdout",
     "output_type": "stream",
     "text": [
      "-2.029994857352875 0.042357062026854894\n",
      "reject h0\n"
     ]
    }
   ],
   "source": [
    "from statsmodels.stats import weightstats as stests\n",
    "A= [14, 16, 13, 17, 12, 18]\n",
    "B=[18, 19, 16, 17, 15, 20] \n",
    "alpha=0.1\n",
    "ztest, p_value=stests.ztest(x1=A, x2=B, value=0, alternative=\"two-sided\")\n",
    "print(ztest,p_value)\n",
    "if p_value<alpha: \n",
    "    print(\"reject h0\")\n",
    "else: \n",
    "    print(\"failed to reject h0\")\n",
    "    "
   ]
  },
  {
   "cell_type": "markdown",
   "metadata": {},
   "source": [
    "A fast-food restaurant claims that 80% of their customers prefer their new burger over the old one.\n",
    "In a random sample of 100 customers, 85 said they preferred the new burger.\n",
    "What is the null and alternative hypothesis?"
   ]
  },
  {
   "cell_type": "markdown",
   "metadata": {},
   "source": [
    "#mu1=mu2 new burger =old one\n",
    "Null Hypothesis p0=0.80\n",
    "Alternate Hypothesis pa≠\n",
    "0.80\n",
    "\n",
    "\n"
   ]
  },
  {
   "cell_type": "code",
   "execution_count": 19,
   "metadata": {},
   "outputs": [],
   "source": [
    "import scipy.stats"
   ]
  },
  {
   "cell_type": "code",
   "execution_count": 20,
   "metadata": {
    "colab": {
     "base_uri": "https://localhost:8080/"
    },
    "id": "aahFlzaMoQEj",
    "outputId": "2bd0a3a4-520a-4af0-890a-8e1c21108f2e"
   },
   "outputs": [
    {
     "name": "stdout",
     "output_type": "stream",
     "text": [
      "z-statistic: -2.029994857352875\n",
      "p-value: 0.042357062026854894\n",
      "Reject the null hypothesis. There is a statistically significant difference in the average heights of plants grown with fertilizer X and Y.\n"
     ]
    }
   ],
   "source": [
    "from statsmodels.stats import weightstats as stests\n",
    "\n",
    "# Group A heights\n",
    "heights_a = [14, 16, 13, 17, 12, 18]\n",
    "\n",
    "# Group B heights\n",
    "heights_b = [18, 19, 16, 17, 15, 20]\n",
    "\n",
    "# Significance level\n",
    "alpha = 0.1\n",
    "\n",
    "# Perform the z-test\n",
    "z_stat, p_value = stests.ztest(heights_a, heights_b, value=0, alternative='two-sided')\n",
    "\n",
    "# Print the z-statistic and p-value\n",
    "print(\"z-statistic:\", z_stat)\n",
    "print(\"p-value:\", p_value)\n",
    "\n",
    "# Decision\n",
    "if p_value < alpha:\n",
    "    print(\"Reject the null hypothesis. There is a statistically significant difference in the average heights of plants grown with fertilizer X and Y.\")\n",
    "else:\n",
    "    print(\"Fail to reject the null hypothesis. There is no statistically significant difference in the average heights of plants grown with fertilizer X and Y.\")"
   ]
  },
  {
   "cell_type": "code",
   "execution_count": null,
   "metadata": {},
   "outputs": [],
   "source": []
  },
  {
   "cell_type": "markdown",
   "metadata": {
    "id": "pcakCOIOqMkq"
   },
   "source": [
    "# Z-proportions test"
   ]
  },
  {
   "cell_type": "code",
   "execution_count": 21,
   "metadata": {
    "colab": {
     "base_uri": "https://localhost:8080/"
    },
    "id": "i13gESdFofK-",
    "outputId": "06851d10-387c-4bae-a526-a0dd4decb902"
   },
   "outputs": [
    {
     "name": "stdout",
     "output_type": "stream",
     "text": [
      "Z-statistic = 1.7817416127494983\n",
      "P-value = 0.07479137758694376\n"
     ]
    }
   ],
   "source": [
    "# Define the data\n",
    "# Number of satisfied customers\n",
    "satisfied_customers = 115\n",
    "# Total number of customers in the sample\n",
    "total_customers = 150\n",
    "\n",
    "# Specify the target satisfaction level (null hypothesis)\n",
    "target_satisfaction = 0.70  # 70%\n",
    "\n",
    "# Define the hypotheses\n",
    "# Null Hypothesis (H0): The proportion of satisfied customers equals the target satisfaction level.\n",
    "# Alternative Hypothesis (Ha): The proportion of satisfied customers is not equal to the target satisfaction level.\n",
    "\n",
    "p = target_satisfaction # population proportion\n",
    "\n",
    "# Calculate the test statistic (Z)\n",
    "# p_hat = sample proportion = x/n\n",
    "p_hat = satisfied_customers / total_customers\n",
    "n = total_customers\n",
    "\n",
    "#formula\n",
    "Z = (p_hat - p) / np.sqrt((p * (1 - p)) / n)\n",
    "\n",
    "# Interpret the test statistic\n",
    "# Z follows a standard normal distribution. We will calculate the two-tailed p-value next.\n",
    "\n",
    "# Calculate the p-value\n",
    "p_value = 2 * (1 - stats.norm.cdf(np.abs(Z)))\n",
    "\n",
    "# In a two-tailed z-test, we care about the magnitude of deviation, not direction, from the null hypothesis.\n",
    "# Using np.abs(Z) removes the sign of the z-score, ensuring both positive and negative deviations contribute to the p-value calculation, making it more accurate for the two-tailed test.\n",
    "\n",
    "# Print the results\n",
    "print(f\"Z-statistic = {Z}\")\n",
    "print(f\"P-value = {p_value}\")"
   ]
  },
  {
   "cell_type": "code",
   "execution_count": 22,
   "metadata": {
    "colab": {
     "base_uri": "https://localhost:8080/"
    },
    "id": "fnzTsQGDq02-",
    "outputId": "9dccb314-dd87-4e30-fe92-cfdefbe3ad42"
   },
   "outputs": [
    {
     "name": "stdout",
     "output_type": "stream",
     "text": [
      "Decision: Fail to reject the null hypothesis\n",
      "Conclusion: There is not enough evidence to conclude that the proportion of satisfied customers with the new product is statistically different from the target satisfaction level.\n"
     ]
    }
   ],
   "source": [
    "alpha = 0.05  # Significance level\n",
    "if p_value < alpha:\n",
    "    decision = \"Reject the null hypothesis\"\n",
    "else:\n",
    "    decision = \"Fail to reject the null hypothesis\"\n",
    "\n",
    "if decision == \"Reject the null hypothesis\":\n",
    "    conclusion = \"There is enough evidence to conclude that the proportion of satisfied customers with the new product is statistically different from the target satisfaction level.\"\n",
    "else:\n",
    "    conclusion = \"There is not enough evidence to conclude that the proportion of satisfied customers with the new product is statistically different from the target satisfaction level.\"\n",
    "\n",
    "# Print the results\n",
    "print(f\"Decision: {decision}\")\n",
    "print(f\"Conclusion: {conclusion}\")"
   ]
  },
  {
   "cell_type": "code",
   "execution_count": 33,
   "metadata": {},
   "outputs": [
    {
     "name": "stdout",
     "output_type": "stream",
     "text": [
      "Z-statistic = -1.3801311186847078\n",
      "P-value = 0.1675462774886176\n",
      "Decision: Fail to reject the null hypothesis\n",
      "Conclusion: The proportion of customers dissatisfied with the new system is less than or equal to 30%.(p ≤ 0.30)\n"
     ]
    }
   ],
   "source": [
    "# Null Hypothesis (H0): The proportion of customers dissatisfied with the new system is less than or equal to 30%.(p ≤ 0.30)\n",
    "# Alternative Hypothesis (H1): The proportion of customers dissatisfied with the new system is greater than 30%.(p > 0.30).\n",
    "# A researcher is studying the satisfaction level of customers after implementing a new customer service system. They collected survey responses from 250 customers and found that 65 of them were dissatisfied with the new system.\n",
    "# The researcher wants to test the null hypothesis that no more than 30% of customers are dissatisfied with the new system.\n",
    "# Use the p-value technique to test the claim with a significance level of α = 0.05.\n",
    "\n",
    "# Define the data\n",
    "# Number of satisfied customers\n",
    "satisfied_customers = 65 \n",
    "# Total number of customers in the sample\n",
    "total_customers = 250\n",
    "\n",
    "# Specify the target satisfaction level (null hypothesis)\n",
    "target_satisfaction = 0.30\n",
    "\n",
    "p = target_satisfaction # population proportion\n",
    "\n",
    "# Calculate the test statistic (Z)\n",
    "# p_hat = sample proportion = x/n\n",
    "p_hat = satisfied_customers / total_customers\n",
    "n = total_customers\n",
    "\n",
    "#formula\n",
    "Z = (p_hat - p) / np.sqrt((p * (1 - p)) / n)\n",
    "\n",
    "# Interpret the test statistic\n",
    "# Z follows a standard normal distribution. We will calculate the two-tailed p-value next.\n",
    "\n",
    "# Calculate the p-value\n",
    "p_value = 2 * (1 - stats.norm.cdf(np.abs(Z)))\n",
    "\n",
    "# In a two-tailed z-test, we care about the magnitude of deviation, not direction, from the null hypothesis.\n",
    "# Using np.abs(Z) removes the sign of the z-score, ensuring both positive and negative deviations contribute to the p-value calculation, making it more accurate for the two-tailed test.\n",
    "\n",
    "# Print the results\n",
    "print(f\"Z-statistic = {Z}\")\n",
    "print(f\"P-value = {p_value}\")\n",
    "\n",
    "alpha = 0.05  # Significance level\n",
    "if p_value < alpha:\n",
    "    decision = \"Reject the null hypothesis\"\n",
    "else:\n",
    "    decision = \"Fail to reject the null hypothesis\"\n",
    "\n",
    "if decision == \"Reject the null hypothesis\":\n",
    "    conclusion = \"The proportion of customers dissatisfied with the new system is greater than 30%.(p > 0.30)\"\n",
    "else:\n",
    "    conclusion = \"The proportion of customers dissatisfied with the new system is less than or equal to 30%.(p ≤ 0.30)\"\n",
    "\n",
    "# Print the results\n",
    "print(f\"Decision: {decision}\")\n",
    "print(f\"Conclusion: {conclusion}\")\n"
   ]
  },
  {
   "cell_type": "markdown",
   "metadata": {
    "id": "JCP8j8o0r2uw"
   },
   "source": [
    "# Quiz"
   ]
  },
  {
   "cell_type": "code",
   "execution_count": 23,
   "metadata": {
    "colab": {
     "base_uri": "https://localhost:8080/"
    },
    "id": "Ph89gkiIrA5n",
    "outputId": "bb557cfa-67c7-47ee-b871-440ddf77880f"
   },
   "outputs": [
    {
     "name": "stdout",
     "output_type": "stream",
     "text": [
      "Test statistic: -1.3801311186847078\n",
      "p-value: 0.9162268612556912\n",
      "Fail to reject the null hypothesis.\n"
     ]
    }
   ],
   "source": []
  },
  {
   "cell_type": "markdown",
   "metadata": {
    "id": "zotT3YRfvbL4"
   },
   "source": [
    "#Z-proportions test"
   ]
  },
  {
   "cell_type": "markdown",
   "metadata": {
    "id": "Rwf5XIZlvz6z"
   },
   "source": [
    "Null Hypothesis (\n",
    "0\n",
    "H\n",
    "0\n",
    "​\n",
    " ): The conversion rates of the old web page (Web Page A) and the new web page (Web Page B) are the same. (\n",
    "1\n",
    "= 2 p1=p2)"
   ]
  },
  {
   "cell_type": "markdown",
   "metadata": {
    "id": "mpaqY4Q1wASj"
   },
   "source": [
    "Alternative Hypothesis (\n",
    "H\n",
    "a\n",
    "​\n",
    " ): The conversion rates of the old web page (Web Page A) and the new web page (Web Page B) are different.(\n",
    "1\n",
    "≠\n",
    "2\n",
    "p1\n",
    "\n",
    "=p2)"
   ]
  },
  {
   "cell_type": "code",
   "execution_count": 35,
   "metadata": {
    "colab": {
     "base_uri": "https://localhost:8080/"
    },
    "id": "3BGz8W9AsAuf",
    "outputId": "a4c2bfcb-c6a7-47a4-82fa-c900e308d8dc"
   },
   "outputs": [
    {
     "name": "stdout",
     "output_type": "stream",
     "text": [
      "[1000  500] [50 30]\n",
      "Z-statistic = -0.8125338562826986\n",
      "P-value = 0.4164853677823287\n"
     ]
    }
   ],
   "source": [
    "import statsmodels.api as sm\n",
    "import numpy as np\n",
    "\n",
    "# Define the data\n",
    "conversions = np.array([50, 30])  # Number of conversions for Web Page A and Web Page B # x_1, x_2\n",
    "visits = np.array([1000, 500])  # Number of visits for Web Page A and Web Page B # n_1, n_2\n",
    "print(visits,conversions)\n",
    "# Perform the Z-proportions test\n",
    "z_stat, p_value = sm.stats.proportions_ztest(conversions, visits, alternative='two-sided')\n",
    "\n",
    "# Print the results\n",
    "print(f\"Z-statistic = {z_stat}\")\n",
    "print(f\"P-value = {p_value}\")"
   ]
  },
  {
   "cell_type": "code",
   "execution_count": null,
   "metadata": {},
   "outputs": [],
   "source": []
  },
  {
   "cell_type": "code",
   "execution_count": 25,
   "metadata": {
    "colab": {
     "base_uri": "https://localhost:8080/"
    },
    "id": "EJ9_tMMgwGdq",
    "outputId": "e0f3c9ea-cc9a-4a9a-b515-e198c3d77f4a"
   },
   "outputs": [
    {
     "name": "stdout",
     "output_type": "stream",
     "text": [
      "Decision: Fail to reject the null hypothesis\n",
      "Conclusion: There is not enough evidence to conclude that the conversion rates of the new web page (Web Page B) are statistically different from the old web page (Web Page A).\n"
     ]
    }
   ],
   "source": [
    "# Make a decision and conclusion\n",
    "if p_value < alpha:\n",
    "    decision = \"Reject the null hypothesis\"\n",
    "else:\n",
    "    decision = \"Fail to reject the null hypothesis\"\n",
    "\n",
    "if decision == \"Reject the null hypothesis\":\n",
    "    conclusion = \"There is enough evidence to conclude that the conversion rates of the new web page (Web Page B) are statistically different from the old web page (Web Page A).\"\n",
    "else:\n",
    "    conclusion = \"There is not enough evidence to conclude that the conversion rates of the new web page (Web Page B) are statistically different from the old web page (Web Page A).\"\n",
    "\n",
    "# Print the results\n",
    "print(f\"Decision: {decision}\")\n",
    "print(f\"Conclusion: {conclusion}\")"
   ]
  },
  {
   "cell_type": "markdown",
   "metadata": {
    "id": "O2GFLUa9wNFB"
   },
   "source": [
    "A company introduces a new feature in its mobile App that allows users to subscribe to a premium service.\n",
    "They want to evaluate if the introduction of this feature has led to an increase in the number of premium users.\n",
    "They collect data from two different time periods: before the feature was introduced (Group A) and after the feature was introduced (Group B).\n",
    "Which test should you use to determine if the new feature has significantly increased in the number of premium users?\n",
    "\n",
    "#Two sample z proportion test"
   ]
  },
  {
   "cell_type": "markdown",
   "metadata": {},
   "source": [
    "A shoe manufacturer claims that their new running shoes make people run faster.\n",
    "To test this claim, they select two groups: Group A wears the new shoes, and Group B wears the old ones.\n",
    "After a 4-week trial, you find that Group A improved their running speed by 15%, while Group B improved by only 10%.\n",
    "Which test should you use to determine if the new shoes are more effective?\n",
    "\n",
    "#two sample z test"
   ]
  },
  {
   "cell_type": "code",
   "execution_count": null,
   "metadata": {},
   "outputs": [],
   "source": [
    "import statsmodels.api as sm\n",
    "import numpy as np\n",
    "\n",
    "# Define the data\n",
    "conversions = np.array([50, 30])  # Number of conversions for Web Page A and Web Page B # x_1, x_2\n",
    "visits = np.array([1000, 500])  # Number of visits for Web Page A and Web Page B # n_1, n_2\n",
    "print(visits,conversions)\n",
    "# Perform the Z-proportions test\n",
    "z_stat, p_value = sm.stats.proportions_ztest(conversions, visits, alternative='two-sided')\n",
    "\n",
    "# Print the results\n",
    "print(f\"Z-statistic = {z_stat}\")\n",
    "print(f\"P-value = {p_value}\")"
   ]
  },
  {
   "cell_type": "markdown",
   "metadata": {},
   "source": [
    "Questions from assignment: \n",
    "\n",
    "The average hourly wage of a sample of 150 workers in plant 'A' was Rs.2·87 with a standard deviation of Rs. 1·08.\n",
    "\n",
    "The average wage of a sample of 200 workers in plant 'B' was Rs. 2·56 with a standard deviation of Rs. 1·28.\n",
    "\n",
    "(i) Calculate the Z-score for this scenario.\n",
    "\n",
    "(ii) Can an applicant safely assume that the hourly wages paid by plant 'A' are higher than those paid by plant 'B' at a 1% significance level?"
   ]
  },
  {
   "cell_type": "markdown",
   "metadata": {},
   "source": [
    "h0: PLANT A and PLANT B has equal pay\n",
    "h1: PLANT A HAS HIGHER SAL THAN PLANT B"
   ]
  },
  {
   "cell_type": "code",
   "execution_count": 6,
   "metadata": {},
   "outputs": [
    {
     "data": {
      "text/plain": [
       "2.453219634102559"
      ]
     },
     "execution_count": 6,
     "metadata": {},
     "output_type": "execute_result"
    }
   ],
   "source": [
    "n1=150\n",
    "x1=2.87\n",
    "std1=1.08\n",
    "n2=200\n",
    "x2=2.56\n",
    "std2=1.28\n",
    "\n",
    "def calculate_zscore(x1, x2, n1, n2, std1, std2): \n",
    "    z_score=(x1-x2)/np.sqrt(std1**2/n1+std2**2/n2)\n",
    "    return z_score\n",
    "calculate_zscore(x1, x2, n1, n2, std1, std2)"
   ]
  },
  {
   "cell_type": "code",
   "execution_count": 10,
   "metadata": {},
   "outputs": [
    {
     "name": "stdout",
     "output_type": "stream",
     "text": [
      "0.007142810735271454\n",
      "reject null hyp:  PLANT A HAS HIGHER SAL THAN PLANT B\n"
     ]
    }
   ],
   "source": [
    "p_value=1-stats.norm.cdf(2.45)\n",
    "print(p_value)\n",
    "if p_value<0.01: \n",
    "    print(\"reject null hyp:  PLANT A HAS HIGHER SAL THAN PLANT B\", )\n",
    "else: \n",
    "    print(\"accept null hyp: PLANT A and PLANT B has equal pay\")"
   ]
  },
  {
   "cell_type": "markdown",
   "metadata": {},
   "source": [
    "The Head of Data Analyst Department is conducting a comparative analysis of the complexity of SQL queries written by two analysts, namely Analyst X and Analyst Y.\n",
    "\n",
    "He has gathered data on the number of lines of code for each SQL query.\n",
    "\n",
    "Analyst X's SQL lines of code: [15, 18, 20, 17, 16, 19, 22, 16, 18, 21]\n",
    "Analyst Y's SQL lines of code: [14, 17, 19, 16, 15, 18, 21, 15, 17, 20]\n",
    "\n",
    "The analyst hypothesizes that Analyst Y writes less complex code compared to Analyst X. To investigate this hypothesis, conduct an appropriate test with a 90% confidence interval."
   ]
  },
  {
   "cell_type": "code",
   "execution_count": 19,
   "metadata": {},
   "outputs": [
    {
     "name": "stdout",
     "output_type": "stream",
     "text": [
      "0.9723055853282467 0.1654492730143623\n",
      "Fail to reject null hyp Both X & Y has same complexity (eta1=eta2)\n"
     ]
    }
   ],
   "source": [
    "x1= [15, 18, 20, 17, 16, 19, 22, 16, 18, 21]\n",
    "x2=[14, 17, 19, 16, 15, 18, 21, 15, 17, 20]\n",
    "cl=0.9\n",
    "alpha=1-0.9\n",
    "\n",
    "ho=\"Both X & Y has same complexity (eta1=eta2)\"  \n",
    "h1= \"X writes more complex code than Y (eta1>eta2)\"\n",
    "#the catch is if we write x1, x2 then in the stests.ztests(x1, x2, value=0, alternative=\"larger\") in that case eta1 > eta2\n",
    "# if we write x2, x1  stests.ztests(x2, x1, value=0, alternative=\"smaller\") in that case eta2< eta1\n",
    "\n",
    "z_stat, p_value=stests.ztest(x1, x2, value=0, alternative=\"larger\")\n",
    "\n",
    "print(z_stat, p_value)\n",
    "\n",
    "if p_value<alpha: \n",
    "    print(f\"reject null hyp {h1}\")\n",
    "else:\n",
    "    print(f\"Fail to reject null hyp {ho}\")"
   ]
  },
  {
   "cell_type": "code",
   "execution_count": 59,
   "metadata": {},
   "outputs": [
    {
     "name": "stdout",
     "output_type": "stream",
     "text": [
      "-0.9723055853282467 0.1654492730143623\n",
      "Fail to reject null hyp Both X & Y has same complexity (eta1=eta2) P-value: 0.1654, There is no significant evidence that Analyst Y writes less complex code compared to Analyst X.\n"
     ]
    }
   ],
   "source": [
    "# if we write x2, x1  stests.ztests(x2, x1, value=0, alternative=\"smaller\") in that case eta2< eta1\n",
    "\n",
    "ho=\"Both X & Y has same complexity (eta1=eta2)\"  \n",
    "h1= \"Y writes less complex than X (eta2<eta1)\"\n",
    "\n",
    "z_stat, p_value=stests.ztest(x2, x1, value=0, alternative=\"smaller\")\n",
    "\n",
    "print(z_stat, p_value)\n",
    "\n",
    "if p_value<alpha: \n",
    "    print(f\"reject null hyp {h1}\")\n",
    "else:\n",
    "    print(f\"Fail to reject null hyp {ho} P-value: 0.1654, There is no significant evidence that Analyst Y writes less complex code compared to Analyst X.\")\n",
    "\n"
   ]
  },
  {
   "cell_type": "markdown",
   "metadata": {},
   "source": [
    "Out of a sample of 1,000 people residing in Maharashtra, 540 are rice eaters, while the rest consume wheat primarily.\n",
    "\n",
    "Can we assume that rice and wheat are equally popular in this state at a 5% significance level?"
   ]
  },
  {
   "cell_type": "markdown",
   "metadata": {},
   "source": [
    "I have solved it in 4 ways"
   ]
  },
  {
   "cell_type": "code",
   "execution_count": 37,
   "metadata": {},
   "outputs": [
    {
     "name": "stdout",
     "output_type": "stream",
     "text": [
      "0.011412036386001523 2.5298221281347057\n",
      "reject h0: Wheat is not equally popular\n"
     ]
    }
   ],
   "source": [
    "p_rice=540/1000\n",
    "p_wheat=(1000-540)/1000\n",
    "alpha=0.05\n",
    "n=1000\n",
    "#h0: Wheat is equally popular\n",
    "#h1: Wheat is not equally popular\n",
    "p_target=0.50 #(wheat = rice)\n",
    "\n",
    "def calculate_zscor_for_z_proportion_test(p_target, p_wheat, n): \n",
    "    z_score=(p_rice-p_target)/np.sqrt(p_target*(1-p_target)/n)\n",
    "    return z_score\n",
    "z_score=calculate_zscor_for_z_proportion_test(p_target, p_wheat, n)\n",
    "\n",
    "p_value=(1-stats.norm.cdf(z_score))*2\n",
    "print(p_value, z_score)\n",
    "\n",
    "if p_value<alpha: \n",
    "    print(\"reject h0: Wheat is not equally popular\")\n",
    "else: \n",
    "    print(\"reject h0: Wheat is equally popular\")"
   ]
  },
  {
   "cell_type": "code",
   "execution_count": 52,
   "metadata": {},
   "outputs": [
    {
     "name": "stdout",
     "output_type": "stream",
     "text": [
      "0.011412036386001686 -2.529822128134702\n",
      "reject h0: Wheat is not equally popular\n"
     ]
    }
   ],
   "source": [
    "p_rice=540/1000\n",
    "p_wheat=(1000-540)/1000\n",
    "alpha=0.05\n",
    "n=1000\n",
    "#h0: Wheat is equally popular\n",
    "#h1: Wheat is not equally popular\n",
    "p_target=0.50 #(wheat = rice)\n",
    "\n",
    "def calculate_zscor_for_z_proportion_test(p_target, p_sample, n): \n",
    "    z_score=(p_sample-p_target)/np.sqrt(p_target*(1-p_target)/n)\n",
    "    return z_score\n",
    "z_score=calculate_zscor_for_z_proportion_test(p_target, p_wheat, n)\n",
    "\n",
    "p_value=(stats.norm.cdf(z_score))*2\n",
    "print(p_value, z_score)\n",
    "\n",
    "if p_value<alpha: \n",
    "    print(\"reject h0: Wheat is not equally popular\")\n",
    "else: \n",
    "    print(\"reject h0: Wheat is equally popular\")"
   ]
  },
  {
   "cell_type": "code",
   "execution_count": 28,
   "metadata": {},
   "outputs": [
    {
     "name": "stdout",
     "output_type": "stream",
     "text": [
      "Z-statistic: 2.537956625422939\n",
      "P-value: 0.011150180283180655\n"
     ]
    }
   ],
   "source": [
    "import statsmodels.api as sm\n",
    "total_population = 1000\n",
    "rice_eaters = 540\n",
    "wheat_eaters = total_population - rice_eaters\n",
    "assumed_proportion = 0.5\n",
    "z_stat, p_value = sm.stats.proportions_ztest(rice_eaters, total_population, assumed_proportion, alternative='two-sided')\n",
    "print(\"Z-statistic:\", z_stat)\n",
    "print(\"P-value:\", p_value)"
   ]
  },
  {
   "cell_type": "code",
   "execution_count": 29,
   "metadata": {},
   "outputs": [
    {
     "name": "stdout",
     "output_type": "stream",
     "text": [
      "Z-statistic: -2.5379566254229355\n",
      "P-value: 0.011150180283180775\n"
     ]
    }
   ],
   "source": [
    "z_stat, p_value = sm.stats.proportions_ztest(wheat_eaters, total_population, assumed_proportion, alternative='two-sided')\n",
    "print(\"Z-statistic:\", z_stat)\n",
    "print(\"P-value:\", p_value)"
   ]
  },
  {
   "cell_type": "markdown",
   "metadata": {},
   "source": [
    "A state senator cannot decide how to vote on an environmental protection bill.\n",
    "\n",
    "The senator decides to request a survey and if the proportion of registered voters supporting the bill exceeds 0.60, she will vote for it.\n",
    "\n",
    "A random sample of 750 voters is selected and 495 are found to support the bill.\n",
    "\n",
    "Conduct an appropriate test at a 90% confidence interval."
   ]
  },
  {
   "cell_type": "code",
   "execution_count": 57,
   "metadata": {},
   "outputs": [],
   "source": [
    "\n",
    "h0= \"supports the bill p_sample=p_target=0.60\",   \n",
    "h1=\"doesn't support the bill p_sample>p_target>0.60\""
   ]
  },
  {
   "cell_type": "code",
   "execution_count": 58,
   "metadata": {},
   "outputs": [
    {
     "name": "stdout",
     "output_type": "stream",
     "text": [
      "3.354101966249688\n",
      "0.0003981150787953913 3.354101966249688\n",
      "reject null hypothesis:doesn't support the bill doesn't support the bill p_sample>p_target>0.60\n"
     ]
    }
   ],
   "source": [
    "p_target=0.60\n",
    "p_sample=495/750\n",
    "n=750\n",
    "z_score=z_score=calculate_zscor_for_z_proportion_test(p_target, p_sample, n)\n",
    "print(z_score)\n",
    "\n",
    "p_score=(1-stats.norm.cdf(z_score))\n",
    "\n",
    "print(p_score, z_score)\n",
    "\n",
    "if p_score<0.1: \n",
    "    print(f\"reject null hypothesis:doesn't support the bill\", str(h1))\n",
    "else: \n",
    "    print(f\"reject null hypothesis: supports the bill\", str(h0))"
   ]
  },
  {
   "cell_type": "markdown",
   "metadata": {},
   "source": [
    "A fair coin should land showing tails with a relative frequency of 50% in a long series of flips.\n",
    "\n",
    "John was told by a friend that spinning a coin on a flat surface, rather than flipping it would not be fair. Spinning would cause the coin to be more biased towards giving tails.\n",
    "\n",
    "To test this claim, he spun his own penny 100 times. It was observed that the penny showed tails in 60% of the spins.\n",
    "\n",
    "Let p represent the proportion of spins that this penny would land showing tails.\n",
    "\n",
    "What are appropriate hypotheses for John's significance test?"
   ]
  },
  {
   "cell_type": "markdown",
   "metadata": {},
   "source": [
    "# problem of z proportion 2 sample he is testing the coin + penny\n",
    "\n",
    "Correct option: Null: p = 50%, Alternative: p > 50%\n",
    "\n",
    "Explanation:\n",
    "Null Hypothesis (H0):\n",
    "\n",
    "The null hypothesis represents the assumption that there is no difference from the expected proportion of tails for a fair coin,\n",
    "i.e. H0: p=50\n",
    "Alternative Hypothesis (H1):\n",
    "\n",
    "The alternative hypothesis expresses the claim being tested, which is that spinning the penny makes it more likely to land showing tails, implying that the proportion of tails may be greater than 50%,\n",
    "i.e. H1: p>50\n",
    "\n"
   ]
  },
  {
   "cell_type": "markdown",
   "metadata": {},
   "source": [
    "The Quidditch teams at Hogwarts conducted tryouts for two positions: Chasers and Seekers.\n",
    "\n",
    "In Group Chasers, out of 90 students who tried out, 57 were selected. In Group Seekers, out of 120 students who tried out, 98 were selected.\n",
    "\n",
    "Is there a significant difference in the proportion of students selected for Chasers and Seekers positions?\n",
    "\n",
    "Conduct a test at 90% confidence level."
   ]
  },
  {
   "cell_type": "code",
   "execution_count": null,
   "metadata": {},
   "outputs": [],
   "source": []
  },
  {
   "cell_type": "code",
   "execution_count": 75,
   "metadata": {},
   "outputs": [
    {
     "name": "stdout",
     "output_type": "stream",
     "text": [
      "-2.990306921349541 0.002786972588958094\n",
      "Z-statistic: -2.990306921349541\n",
      "P-value: 0.002786972588958094\n",
      "Reject the null hypothesis. There is a significant difference in the proportion of students selected for Chasers and Seekers positions.\n"
     ]
    }
   ],
   "source": [
    "# Data for Chasers\n",
    "selected_chasers = 57\n",
    "total_chasers = 90\n",
    "\n",
    "# Data for Seekers\n",
    "selected_seekers = 98\n",
    "total_seekers = 120\n",
    "\n",
    "z_stat, p_value = sm.stats.proportions_ztest([selected_chasers, selected_seekers], [total_chasers, total_seekers], alternative = 'two-sided')\n",
    "\n",
    "print(z_stat, p_value)\n",
    "\n",
    "# Confidence level\n",
    "confidence_level = 0.90\n",
    "# Calculate the critical value for a two-tailed test\n",
    "alpha = 1 - confidence_level\n",
    "\n",
    "# Print the results\n",
    "print(f\"Z-statistic: {z_stat}\")\n",
    "print(f\"P-value: {p_value}\")\n",
    "\n",
    "# Decision Rule\n",
    "if p_value < alpha:\n",
    "   print(\"Reject the null hypothesis. There is a significant difference in the proportion of students selected for Chasers and Seekers positions.\")\n",
    "else:\n",
    "   print(\"Fail to reject the null hypothesis. There is no significant difference in the proportion of students selected for Chasers and Seekers positions.\")"
   ]
  },
  {
   "cell_type": "markdown",
   "metadata": {},
   "source": [
    "As a product manager, you want to evaluate the user satisfaction for two different seasons of Naruto Shippuden (Season 1 and Season 2).\n",
    "\n",
    "You collected feedback from 250 viewers who watched Season 1 of Naruto Shippuden, and 120 expressed satisfaction. Similarly, for Season 2, you gathered data from 300 viewers, and 150 of them expressed satisfaction.\n",
    "\n",
    "Conduct an appropriate test at a 95% confidence interval to determine if there's a higher user satisfaction for Season 2 than for Season 1."
   ]
  },
  {
   "cell_type": "code",
   "execution_count": 78,
   "metadata": {},
   "outputs": [
    {
     "name": "stdout",
     "output_type": "stream",
     "text": [
      "0.46717659215115714 0.3201867697265242\n",
      "Season 2 and season 1 has same satisfaction\n"
     ]
    }
   ],
   "source": [
    "h0=\"Season 2 and season 1 has same satisfaction\"\n",
    "h1=\"Season 2 has more satisfaction that season 1\" \n",
    "\n",
    "alpha=0.05\n",
    "p_target=0.50\n",
    "season2=150\n",
    "season1=120\n",
    "season2_total=300\n",
    "season1_total=250\n",
    "z_stat, p_value = sm.stats.proportions_ztest([season2, season1], [season2_total, season1_total], alternative = 'larger')\n",
    "print(z_stat, p_value)\n",
    "\n",
    "if p_value<alpha: \n",
    "    print(h1)\n",
    "else: \n",
    "    print(h0)"
   ]
  },
  {
   "cell_type": "code",
   "execution_count": 77,
   "metadata": {},
   "outputs": [],
   "source": [
    "n1=250\n",
    "p1=120/250\n",
    "n2=150\n",
    "p2=150/300"
   ]
  },
  {
   "cell_type": "markdown",
   "metadata": {},
   "source": [
    "A company is surveying to assess customer satisfaction with two different support approaches.\n",
    "\n",
    "The company collects feedback from customers subjected to each approach and wants to compare the satisfied customers.\n",
    "\n",
    "Which statistical test would be most appropriate for the company to compare the satisfied customers between the two support approaches, and what would be the relevant null hypothesis?"
   ]
  },
  {
   "cell_type": "markdown",
   "metadata": {},
   "source": [
    "Two-sample z-proportion test, H0: The proportion of satisfied customers is the same for both customer support approaches."
   ]
  }
 ],
 "metadata": {
  "colab": {
   "provenance": []
  },
  "kernelspec": {
   "display_name": "Python 3 (ipykernel)",
   "language": "python",
   "name": "python3"
  },
  "language_info": {
   "codemirror_mode": {
    "name": "ipython",
    "version": 3
   },
   "file_extension": ".py",
   "mimetype": "text/x-python",
   "name": "python",
   "nbconvert_exporter": "python",
   "pygments_lexer": "ipython3",
   "version": "3.11.4"
  }
 },
 "nbformat": 4,
 "nbformat_minor": 4
}
